{
  "nbformat": 4,
  "nbformat_minor": 0,
  "metadata": {
    "colab": {
      "provenance": []
    },
    "kernelspec": {
      "name": "python3",
      "display_name": "Python 3"
    },
    "language_info": {
      "name": "python"
    }
  },
  "cells": [
    {
      "cell_type": "code",
      "source": [
        "#@markdown # Open ngrok tunnel\n",
        "\n",
        "token = \"\"#@param {type:\"string\"}\n",
        "#@markdown Use https://ngrok.com to get token.\n",
        "port = 8888#@param {type: \"number\"}\n",
        "#@markdown Don't edit port, if you want this to work.\n",
        "!pip install pyngrok\n",
        "!ngrok authtoken {token}\n",
        "!ngrok http {port} &>/dev/null &"
      ],
      "metadata": {
        "cellView": "form",
        "id": "3qksFcFSnUz6"
      },
      "execution_count": null,
      "outputs": []
    },
    {
      "cell_type": "code",
      "source": [
        "#@markdown # Start jupyter server\n",
        "use_drive = True#@param {type: \"boolean\"}\n",
        "if use_drive:\n",
        "  from google.colab import drive\n",
        "  drive.mount('/content/drive')\n",
        "\n",
        "!jupyter notebook --ip 127.0.0.1 --port 8888"
      ],
      "metadata": {
        "cellView": "form",
        "id": "dfqVMMIdupPr"
      },
      "execution_count": null,
      "outputs": []
    },
    {
      "cell_type": "markdown",
      "source": [
        "# 🔽 Use this block to hack the terminal on Colab Free 🔽"
      ],
      "metadata": {
        "id": "L03-pMlMnEN0"
      }
    },
    {
      "cell_type": "code",
      "source": [
        "!eval $SHELL"
      ],
      "metadata": {
        "id": "YjsnHryWwEfS"
      },
      "execution_count": null,
      "outputs": []
    }
  ]
}